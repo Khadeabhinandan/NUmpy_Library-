{
 "cells": [
  {
   "cell_type": "markdown",
   "id": "2e4924ac",
   "metadata": {},
   "source": [
    "# NumPy (Numerical Python) Library Methods "
   ]
  },
  {
   "cell_type": "raw",
   "id": "9630bd6b",
   "metadata": {},
   "source": [
    "NumPy is a Open source Library of a python "
   ]
  },
  {
   "cell_type": "code",
   "execution_count": null,
   "id": "5616f7ab",
   "metadata": {},
   "outputs": [],
   "source": [
    "#  How to import thr numpy library in Jupyter notebook"
   ]
  },
  {
   "cell_type": "code",
   "execution_count": 1,
   "id": "1c5f4680",
   "metadata": {},
   "outputs": [],
   "source": [
    "import numpy as np"
   ]
  },
  {
   "cell_type": "markdown",
   "id": "52b67bbd",
   "metadata": {},
   "source": [
    "Creating  One dimenssional array "
   ]
  },
  {
   "cell_type": "code",
   "execution_count": 2,
   "id": "d4f2b451",
   "metadata": {},
   "outputs": [],
   "source": [
    "a =  np.array([1,2,3])"
   ]
  },
  {
   "cell_type": "code",
   "execution_count": 3,
   "id": "2a38084e",
   "metadata": {},
   "outputs": [
    {
     "name": "stdout",
     "output_type": "stream",
     "text": [
      "[1 2 3]\n"
     ]
    }
   ],
   "source": [
    "print(a)"
   ]
  },
  {
   "cell_type": "code",
   "execution_count": 4,
   "id": "10f1302d",
   "metadata": {},
   "outputs": [
    {
     "name": "stdout",
     "output_type": "stream",
     "text": [
      "<class 'numpy.ndarray'>\n"
     ]
    }
   ],
   "source": [
    "print(type(a))"
   ]
  },
  {
   "cell_type": "raw",
   "id": "1f6dc755",
   "metadata": {},
   "source": [
    "To check the shape & Size of the array"
   ]
  },
  {
   "cell_type": "code",
   "execution_count": 7,
   "id": "2df2ddce",
   "metadata": {},
   "outputs": [
    {
     "name": "stdout",
     "output_type": "stream",
     "text": [
      "(3,)\n"
     ]
    }
   ],
   "source": [
    "print(a.shape)"
   ]
  },
  {
   "cell_type": "code",
   "execution_count": 8,
   "id": "20d27994",
   "metadata": {},
   "outputs": [
    {
     "name": "stdout",
     "output_type": "stream",
     "text": [
      "3\n"
     ]
    }
   ],
   "source": [
    "print(a.size)"
   ]
  },
  {
   "cell_type": "raw",
   "id": "4ca7f876",
   "metadata": {},
   "source": [
    "To craete multidimessional array"
   ]
  },
  {
   "cell_type": "code",
   "execution_count": 9,
   "id": "41e7aff3",
   "metadata": {},
   "outputs": [],
   "source": [
    "b = np.array([[1,2,3],[1,2,3]])"
   ]
  },
  {
   "cell_type": "code",
   "execution_count": 10,
   "id": "1a987076",
   "metadata": {},
   "outputs": [
    {
     "name": "stdout",
     "output_type": "stream",
     "text": [
      "[[1 2 3]\n",
      " [1 2 3]]\n"
     ]
    }
   ],
   "source": [
    "print(b)"
   ]
  },
  {
   "cell_type": "code",
   "execution_count": 11,
   "id": "cc7b2ba0",
   "metadata": {},
   "outputs": [
    {
     "name": "stdout",
     "output_type": "stream",
     "text": [
      "(2, 3)\n"
     ]
    }
   ],
   "source": [
    "print(b.shape)"
   ]
  },
  {
   "cell_type": "code",
   "execution_count": 12,
   "id": "2b11f275",
   "metadata": {},
   "outputs": [
    {
     "name": "stdout",
     "output_type": "stream",
     "text": [
      "6\n"
     ]
    }
   ],
   "source": [
    "print(b.size)"
   ]
  },
  {
   "cell_type": "raw",
   "id": "4c45e4d9",
   "metadata": {},
   "source": [
    "To crate a array of zeeros "
   ]
  },
  {
   "cell_type": "code",
   "execution_count": 18,
   "id": "01f20c26",
   "metadata": {},
   "outputs": [],
   "source": [
    "c = np.zeros(3,dtype = \"int16\")"
   ]
  },
  {
   "cell_type": "code",
   "execution_count": 19,
   "id": "84b3de94",
   "metadata": {},
   "outputs": [
    {
     "data": {
      "text/plain": [
       "array([0, 0, 0], dtype=int16)"
      ]
     },
     "execution_count": 19,
     "metadata": {},
     "output_type": "execute_result"
    }
   ],
   "source": [
    "c"
   ]
  },
  {
   "cell_type": "code",
   "execution_count": null,
   "id": "eb3caf18",
   "metadata": {},
   "outputs": [],
   "source": [
    "# to create arrays of ones"
   ]
  },
  {
   "cell_type": "code",
   "execution_count": 21,
   "id": "dc67fa07",
   "metadata": {},
   "outputs": [],
   "source": [
    "d = np.ones(3,dtype = 'int16')"
   ]
  },
  {
   "cell_type": "code",
   "execution_count": 22,
   "id": "df406d8b",
   "metadata": {},
   "outputs": [
    {
     "data": {
      "text/plain": [
       "array([1, 1, 1], dtype=int16)"
      ]
     },
     "execution_count": 22,
     "metadata": {},
     "output_type": "execute_result"
    }
   ],
   "source": [
    "d"
   ]
  },
  {
   "cell_type": "code",
   "execution_count": null,
   "id": "961f397f",
   "metadata": {},
   "outputs": [],
   "source": [
    "# create array with range"
   ]
  },
  {
   "cell_type": "code",
   "execution_count": 26,
   "id": "e42cfd9a",
   "metadata": {},
   "outputs": [],
   "source": [
    "e = np.arange(0,20)"
   ]
  },
  {
   "cell_type": "code",
   "execution_count": 27,
   "id": "caa65eda",
   "metadata": {},
   "outputs": [
    {
     "data": {
      "text/plain": [
       "array([ 0,  1,  2,  3,  4,  5,  6,  7,  8,  9, 10, 11, 12, 13, 14, 15, 16,\n",
       "       17, 18, 19])"
      ]
     },
     "execution_count": 27,
     "metadata": {},
     "output_type": "execute_result"
    }
   ],
   "source": [
    "e"
   ]
  },
  {
   "cell_type": "code",
   "execution_count": 28,
   "id": "34dd14e9",
   "metadata": {},
   "outputs": [],
   "source": [
    "# to reshape the array"
   ]
  },
  {
   "cell_type": "code",
   "execution_count": 29,
   "id": "ebb6e11d",
   "metadata": {},
   "outputs": [
    {
     "name": "stdout",
     "output_type": "stream",
     "text": [
      "[[ 0  1  2  3  4]\n",
      " [ 5  6  7  8  9]\n",
      " [10 11 12 13 14]\n",
      " [15 16 17 18 19]]\n"
     ]
    }
   ],
   "source": [
    "print(e.reshape(4,5))"
   ]
  },
  {
   "cell_type": "code",
   "execution_count": null,
   "id": "b84dd1f5",
   "metadata": {},
   "outputs": [],
   "source": [
    "# create array with linespace"
   ]
  },
  {
   "cell_type": "code",
   "execution_count": 30,
   "id": "fc88df53",
   "metadata": {},
   "outputs": [],
   "source": [
    "f = np.linspace(0,20,5)"
   ]
  },
  {
   "cell_type": "code",
   "execution_count": 31,
   "id": "1f3f1c6c",
   "metadata": {},
   "outputs": [
    {
     "data": {
      "text/plain": [
       "array([ 0.,  5., 10., 15., 20.])"
      ]
     },
     "execution_count": 31,
     "metadata": {},
     "output_type": "execute_result"
    }
   ],
   "source": [
    "f"
   ]
  },
  {
   "cell_type": "code",
   "execution_count": 37,
   "id": "55fc9ed6",
   "metadata": {},
   "outputs": [],
   "source": [
    "g = np.linspace(0,10)\n"
   ]
  },
  {
   "cell_type": "code",
   "execution_count": 40,
   "id": "435ab15e",
   "metadata": {},
   "outputs": [
    {
     "name": "stdout",
     "output_type": "stream",
     "text": [
      "(50,)\n"
     ]
    }
   ],
   "source": [
    "print(g.shape)"
   ]
  },
  {
   "cell_type": "code",
   "execution_count": 41,
   "id": "87aeae1f",
   "metadata": {},
   "outputs": [],
   "source": [
    "# creating multidimessional array"
   ]
  },
  {
   "cell_type": "code",
   "execution_count": 46,
   "id": "b387f033",
   "metadata": {},
   "outputs": [],
   "source": [
    "a1 = np.eye(3)"
   ]
  },
  {
   "cell_type": "code",
   "execution_count": 47,
   "id": "cd60a991",
   "metadata": {},
   "outputs": [
    {
     "data": {
      "text/plain": [
       "array([[1., 0., 0.],\n",
       "       [0., 1., 0.],\n",
       "       [0., 0., 1.]])"
      ]
     },
     "execution_count": 47,
     "metadata": {},
     "output_type": "execute_result"
    }
   ],
   "source": [
    "a1"
   ]
  },
  {
   "cell_type": "code",
   "execution_count": 48,
   "id": "091e7aec",
   "metadata": {},
   "outputs": [
    {
     "data": {
      "text/plain": [
       "1.0"
      ]
     },
     "execution_count": 48,
     "metadata": {},
     "output_type": "execute_result"
    }
   ],
   "source": [
    "a1[0][0]"
   ]
  },
  {
   "cell_type": "code",
   "execution_count": 49,
   "id": "ae83da74",
   "metadata": {},
   "outputs": [],
   "source": [
    "a2 = np.eye(3,5)"
   ]
  },
  {
   "cell_type": "code",
   "execution_count": 50,
   "id": "71b76943",
   "metadata": {},
   "outputs": [
    {
     "data": {
      "text/plain": [
       "array([[1., 0., 0., 0., 0.],\n",
       "       [0., 1., 0., 0., 0.],\n",
       "       [0., 0., 1., 0., 0.]])"
      ]
     },
     "execution_count": 50,
     "metadata": {},
     "output_type": "execute_result"
    }
   ],
   "source": [
    "a2"
   ]
  },
  {
   "cell_type": "code",
   "execution_count": null,
   "id": "84f37357",
   "metadata": {},
   "outputs": [],
   "source": [
    "# how to get tthe diagonal elements "
   ]
  },
  {
   "cell_type": "code",
   "execution_count": 56,
   "id": "4bfdb22b",
   "metadata": {},
   "outputs": [],
   "source": [
    "a4 = np.arange(0,9).reshape(3,3)"
   ]
  },
  {
   "cell_type": "code",
   "execution_count": 57,
   "id": "bec95bab",
   "metadata": {},
   "outputs": [
    {
     "data": {
      "text/plain": [
       "array([[0, 1, 2],\n",
       "       [3, 4, 5],\n",
       "       [6, 7, 8]])"
      ]
     },
     "execution_count": 57,
     "metadata": {},
     "output_type": "execute_result"
    }
   ],
   "source": [
    "a4"
   ]
  },
  {
   "cell_type": "code",
   "execution_count": 59,
   "id": "98b544eb",
   "metadata": {},
   "outputs": [
    {
     "name": "stdout",
     "output_type": "stream",
     "text": [
      "[0 4 8]\n"
     ]
    }
   ],
   "source": [
    "print(np.diag(a4))"
   ]
  },
  {
   "cell_type": "code",
   "execution_count": 64,
   "id": "3f50e7fb",
   "metadata": {},
   "outputs": [
    {
     "name": "stdout",
     "output_type": "stream",
     "text": [
      "[2]\n"
     ]
    }
   ],
   "source": [
    "print(np.diag(a4, k =1))"
   ]
  },
  {
   "cell_type": "markdown",
   "id": "792f3e49",
   "metadata": {},
   "source": [
    "Create a diagonal elements as 1,2,3,4 but 1 at coloumn 2"
   ]
  },
  {
   "cell_type": "code",
   "execution_count": 65,
   "id": "22237db1",
   "metadata": {},
   "outputs": [],
   "source": [
    "a3 = np.diag([1,2,3,4], k =2)"
   ]
  },
  {
   "cell_type": "code",
   "execution_count": 66,
   "id": "7e54a78e",
   "metadata": {},
   "outputs": [
    {
     "data": {
      "text/plain": [
       "array([[0, 0, 1, 0, 0, 0],\n",
       "       [0, 0, 0, 2, 0, 0],\n",
       "       [0, 0, 0, 0, 3, 0],\n",
       "       [0, 0, 0, 0, 0, 4],\n",
       "       [0, 0, 0, 0, 0, 0],\n",
       "       [0, 0, 0, 0, 0, 0]])"
      ]
     },
     "execution_count": 66,
     "metadata": {},
     "output_type": "execute_result"
    }
   ],
   "source": [
    "a3"
   ]
  },
  {
   "cell_type": "code",
   "execution_count": null,
   "id": "f79888f0",
   "metadata": {},
   "outputs": [],
   "source": [
    "# creating a numpy array using a random function"
   ]
  },
  {
   "cell_type": "code",
   "execution_count": 68,
   "id": "1a1907aa",
   "metadata": {},
   "outputs": [],
   "source": [
    "from numpy.random import default_rng as dr"
   ]
  },
  {
   "cell_type": "code",
   "execution_count": 73,
   "id": "c7585a2f",
   "metadata": {},
   "outputs": [
    {
     "data": {
      "text/plain": [
       "array([[0.95600171, 0.20768181, 0.82844489],\n",
       "       [0.14928212, 0.51280462, 0.1359196 ]])"
      ]
     },
     "execution_count": 73,
     "metadata": {},
     "output_type": "execute_result"
    }
   ],
   "source": [
    "dr(10).random((2,3))"
   ]
  },
  {
   "cell_type": "markdown",
   "id": "80f5dcb1",
   "metadata": {},
   "source": [
    "How to acess the items in numpy"
   ]
  },
  {
   "cell_type": "code",
   "execution_count": 74,
   "id": "2ac40785",
   "metadata": {},
   "outputs": [
    {
     "data": {
      "text/plain": [
       "array([[0, 0, 1, 0, 0, 0],\n",
       "       [0, 0, 0, 2, 0, 0],\n",
       "       [0, 0, 0, 0, 3, 0],\n",
       "       [0, 0, 0, 0, 0, 4],\n",
       "       [0, 0, 0, 0, 0, 0],\n",
       "       [0, 0, 0, 0, 0, 0]])"
      ]
     },
     "execution_count": 74,
     "metadata": {},
     "output_type": "execute_result"
    }
   ],
   "source": [
    "a3"
   ]
  },
  {
   "cell_type": "code",
   "execution_count": 76,
   "id": "402718ab",
   "metadata": {},
   "outputs": [],
   "source": [
    "a3[0][1] = 5"
   ]
  },
  {
   "cell_type": "code",
   "execution_count": 77,
   "id": "99746a0e",
   "metadata": {},
   "outputs": [
    {
     "data": {
      "text/plain": [
       "array([[0, 5, 1, 0, 0, 0],\n",
       "       [0, 0, 0, 2, 0, 0],\n",
       "       [0, 0, 0, 0, 3, 0],\n",
       "       [0, 0, 0, 0, 0, 4],\n",
       "       [0, 0, 0, 0, 0, 0],\n",
       "       [0, 0, 0, 0, 0, 0]])"
      ]
     },
     "execution_count": 77,
     "metadata": {},
     "output_type": "execute_result"
    }
   ],
   "source": [
    "a3"
   ]
  },
  {
   "cell_type": "code",
   "execution_count": 80,
   "id": "b2d367ff",
   "metadata": {},
   "outputs": [],
   "source": [
    "a3[4][1] = 1"
   ]
  },
  {
   "cell_type": "code",
   "execution_count": 81,
   "id": "65148052",
   "metadata": {},
   "outputs": [
    {
     "data": {
      "text/plain": [
       "array([[0, 5, 1, 0, 0, 0],\n",
       "       [0, 1, 0, 2, 0, 0],\n",
       "       [0, 0, 0, 0, 3, 0],\n",
       "       [0, 0, 0, 0, 0, 4],\n",
       "       [0, 1, 0, 0, 0, 0],\n",
       "       [0, 0, 0, 0, 0, 0]])"
      ]
     },
     "execution_count": 81,
     "metadata": {},
     "output_type": "execute_result"
    }
   ],
   "source": [
    "a3"
   ]
  },
  {
   "cell_type": "markdown",
   "id": "1f96e5ad",
   "metadata": {},
   "source": [
    "Remarks:\n",
    "    \n",
    "    1) Numpy(NUmeric Python) is a n dimentonal array \n",
    "    2) It is open source python library \n",
    "    3) Some iportant methods of the numpy is as :\n",
    "        1) np.array()\n",
    "        2) np.ones()\n",
    "        3) np.eye()\n",
    "        4) np.zeros()\n",
    "        5) np.reshape()\n",
    "        6) np.diag()\n",
    "        7) np.sort()\n",
    "        8) np.[][] to access the item in the array\n",
    "        9) "
   ]
  }
 ],
 "metadata": {
  "kernelspec": {
   "display_name": "Python 3 (ipykernel)",
   "language": "python",
   "name": "python3"
  },
  "language_info": {
   "codemirror_mode": {
    "name": "ipython",
    "version": 3
   },
   "file_extension": ".py",
   "mimetype": "text/x-python",
   "name": "python",
   "nbconvert_exporter": "python",
   "pygments_lexer": "ipython3",
   "version": "3.9.7"
  }
 },
 "nbformat": 4,
 "nbformat_minor": 5
}
